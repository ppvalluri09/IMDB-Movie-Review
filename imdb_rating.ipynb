{
 "cells": [
  {
   "cell_type": "code",
   "execution_count": 48,
   "metadata": {},
   "outputs": [],
   "source": [
    "from textblob import Word\n",
    "import numpy as np\n",
    "from nltk.corpus import stopwords\n",
    "import numpy as np\n",
    "import pandas as pd\n",
    "import os\n",
    "import matplotlib.pyplot as plt"
   ]
  },
  {
   "cell_type": "code",
   "execution_count": 12,
   "metadata": {},
   "outputs": [],
   "source": [
    "TRAIN_PATH = './train'\n",
    "TEST_PATH = './test'\n",
    "\n",
    "classes = {'pos': 0, 'neg': 1}"
   ]
  },
  {
   "cell_type": "code",
   "execution_count": 18,
   "metadata": {},
   "outputs": [],
   "source": [
    "def make_data(mode='train'):\n",
    "    data = []\n",
    "    for _class in classes:\n",
    "        if mode == 'train':\n",
    "            path = os.path.join(TRAIN_PATH, _class)\n",
    "        elif mode == \"test\":\n",
    "            path = os.path.join(TEST_PATH, _class)\n",
    "        for file in os.listdir(path):\n",
    "            this_file = open(os.path.join(path, file), \"r\", encoding=\"utf8\").read()\n",
    "            data.append([this_file, _class])\n",
    "    return data"
   ]
  },
  {
   "cell_type": "code",
   "execution_count": 19,
   "metadata": {},
   "outputs": [],
   "source": [
    "train_data = make_data(mode='train')\n",
    "test_data = make_data(mode='test')"
   ]
  },
  {
   "cell_type": "code",
   "execution_count": 23,
   "metadata": {},
   "outputs": [],
   "source": [
    "import random\n",
    "random.shuffle(train_data)\n",
    "random.shuffle(test_data)"
   ]
  },
  {
   "cell_type": "code",
   "execution_count": 24,
   "metadata": {},
   "outputs": [],
   "source": [
    "train_data_content = [i[0] for i in train_data]\n",
    "train_data_class = [classes[i[1]] for i in train_data]\n",
    "\n",
    "test_data_content = [i[0] for i in test_data]\n",
    "test_data_class = [classes[i[1]] for i in test_data]"
   ]
  },
  {
   "cell_type": "code",
   "execution_count": 26,
   "metadata": {},
   "outputs": [],
   "source": [
    "train = pd.DataFrame()\n",
    "test = pd.DataFrame()"
   ]
  },
  {
   "cell_type": "code",
   "execution_count": 28,
   "metadata": {},
   "outputs": [],
   "source": [
    "train['comment'] = train_data_content\n",
    "train['review'] = train_data_class\n",
    "\n",
    "test['comment'] = test_data_content\n",
    "test['review'] = test_data_class"
   ]
  },
  {
   "cell_type": "code",
   "execution_count": 32,
   "metadata": {},
   "outputs": [],
   "source": [
    "# we converted the given text docs to DataFrames for eaasier preprocessing\n",
    "\n",
    "train.to_csv('./data/train.csv', index=False)\n",
    "test.to_csv('./data/test.csv', index=False)"
   ]
  },
  {
   "cell_type": "code",
   "execution_count": 34,
   "metadata": {},
   "outputs": [],
   "source": [
    "import re\n",
    "stop_words = stopwords.words('english')\n",
    "\n",
    "train['comment'] = train['comment'].apply(lambda x: ' '.join(x.lower() for x in x.split()))\n",
    "train['comment'] = train['comment'].apply(lambda x: ' '.join(x for x in x.split() if x not in stop_words))"
   ]
  },
  {
   "cell_type": "code",
   "execution_count": 39,
   "metadata": {},
   "outputs": [
    {
     "data": {
      "text/html": [
       "<div>\n",
       "<style scoped>\n",
       "    .dataframe tbody tr th:only-of-type {\n",
       "        vertical-align: middle;\n",
       "    }\n",
       "\n",
       "    .dataframe tbody tr th {\n",
       "        vertical-align: top;\n",
       "    }\n",
       "\n",
       "    .dataframe thead th {\n",
       "        text-align: right;\n",
       "    }\n",
       "</style>\n",
       "<table border=\"1\" class=\"dataframe\">\n",
       "  <thead>\n",
       "    <tr style=\"text-align: right;\">\n",
       "      <th></th>\n",
       "      <th>comment</th>\n",
       "      <th>review</th>\n",
       "    </tr>\n",
       "  </thead>\n",
       "  <tbody>\n",
       "    <tr>\n",
       "      <th>0</th>\n",
       "      <td>grew watching inspector gadget was still is on...</td>\n",
       "      <td>1</td>\n",
       "    </tr>\n",
       "    <tr>\n",
       "      <th>1</th>\n",
       "      <td>anarchy lawlessness reign supreme podunk hick ...</td>\n",
       "      <td>0</td>\n",
       "    </tr>\n",
       "    <tr>\n",
       "      <th>2</th>\n",
       "      <td>documentary makes travel around globe contains...</td>\n",
       "      <td>0</td>\n",
       "    </tr>\n",
       "    <tr>\n",
       "      <th>3</th>\n",
       "      <td>everyone knows zero day event think movie elep...</td>\n",
       "      <td>0</td>\n",
       "    </tr>\n",
       "    <tr>\n",
       "      <th>4</th>\n",
       "      <td>begin spoiler fitfully funny memorable mr chon...</td>\n",
       "      <td>1</td>\n",
       "    </tr>\n",
       "  </tbody>\n",
       "</table>\n",
       "</div>"
      ],
      "text/plain": [
       "                                             comment  review\n",
       "0  grew watching inspector gadget was still is on...       1\n",
       "1  anarchy lawlessness reign supreme podunk hick ...       0\n",
       "2  documentary makes travel around globe contains...       0\n",
       "3  everyone knows zero day event think movie elep...       0\n",
       "4  begin spoiler fitfully funny memorable mr chon...       1"
      ]
     },
     "execution_count": 39,
     "metadata": {},
     "output_type": "execute_result"
    }
   ],
   "source": [
    "# removing punctuations\n",
    "train['comment'] = train['comment'].str.replace('[^\\w\\s]', '')\n",
    "train.head()"
   ]
  },
  {
   "cell_type": "code",
   "execution_count": 40,
   "metadata": {},
   "outputs": [
    {
     "data": {
      "text/html": [
       "<div>\n",
       "<style scoped>\n",
       "    .dataframe tbody tr th:only-of-type {\n",
       "        vertical-align: middle;\n",
       "    }\n",
       "\n",
       "    .dataframe tbody tr th {\n",
       "        vertical-align: top;\n",
       "    }\n",
       "\n",
       "    .dataframe thead th {\n",
       "        text-align: right;\n",
       "    }\n",
       "</style>\n",
       "<table border=\"1\" class=\"dataframe\">\n",
       "  <thead>\n",
       "    <tr style=\"text-align: right;\">\n",
       "      <th></th>\n",
       "      <th>comment</th>\n",
       "      <th>review</th>\n",
       "    </tr>\n",
       "  </thead>\n",
       "  <tbody>\n",
       "    <tr>\n",
       "      <th>0</th>\n",
       "      <td>sit basement light hour half thats watching su...</td>\n",
       "      <td>1</td>\n",
       "    </tr>\n",
       "    <tr>\n",
       "      <th>1</th>\n",
       "      <td>spoof films require pure stupidity lack sort i...</td>\n",
       "      <td>1</td>\n",
       "    </tr>\n",
       "    <tr>\n",
       "      <th>2</th>\n",
       "      <td>movie like come along often im surprised took ...</td>\n",
       "      <td>0</td>\n",
       "    </tr>\n",
       "    <tr>\n",
       "      <th>3</th>\n",
       "      <td>paranoid park alex 16 year old skater causes d...</td>\n",
       "      <td>1</td>\n",
       "    </tr>\n",
       "    <tr>\n",
       "      <th>4</th>\n",
       "      <td>ok maybe posse cant compare popular cowboywest...</td>\n",
       "      <td>0</td>\n",
       "    </tr>\n",
       "  </tbody>\n",
       "</table>\n",
       "</div>"
      ],
      "text/plain": [
       "                                             comment  review\n",
       "0  sit basement light hour half thats watching su...       1\n",
       "1  spoof films require pure stupidity lack sort i...       1\n",
       "2  movie like come along often im surprised took ...       0\n",
       "3  paranoid park alex 16 year old skater causes d...       1\n",
       "4  ok maybe posse cant compare popular cowboywest...       0"
      ]
     },
     "execution_count": 40,
     "metadata": {},
     "output_type": "execute_result"
    }
   ],
   "source": [
    "test['comment'] = test['comment'].apply(lambda x: ' '.join(x.lower() for x in x.split()))\n",
    "test['comment'] = test['comment'].apply(lambda x: ' '.join(x for x in x.split() if x not in stop_words))\n",
    "test['comment'] = test['comment'].str.replace('[^\\w\\s]', '')\n",
    "test.head()"
   ]
  },
  {
   "cell_type": "code",
   "execution_count": 41,
   "metadata": {},
   "outputs": [],
   "source": [
    "# lemmatizing the words\n",
    "train['comment'] = train['comment'].apply(lambda x: ' '.join(Word(x).lemmatize() for x in x.split()))\n",
    "test['comment'] = test['comment'].apply(lambda x: ' '.join(Word(x).lemmatize() for x in x.split()))"
   ]
  },
  {
   "cell_type": "code",
   "execution_count": 42,
   "metadata": {},
   "outputs": [
    {
     "data": {
      "text/html": [
       "<div>\n",
       "<style scoped>\n",
       "    .dataframe tbody tr th:only-of-type {\n",
       "        vertical-align: middle;\n",
       "    }\n",
       "\n",
       "    .dataframe tbody tr th {\n",
       "        vertical-align: top;\n",
       "    }\n",
       "\n",
       "    .dataframe thead th {\n",
       "        text-align: right;\n",
       "    }\n",
       "</style>\n",
       "<table border=\"1\" class=\"dataframe\">\n",
       "  <thead>\n",
       "    <tr style=\"text-align: right;\">\n",
       "      <th></th>\n",
       "      <th>comment</th>\n",
       "      <th>review</th>\n",
       "    </tr>\n",
       "  </thead>\n",
       "  <tbody>\n",
       "    <tr>\n",
       "      <th>0</th>\n",
       "      <td>grew watching inspector gadget wa still is one...</td>\n",
       "      <td>1</td>\n",
       "    </tr>\n",
       "    <tr>\n",
       "      <th>1</th>\n",
       "      <td>anarchy lawlessness reign supreme podunk hick ...</td>\n",
       "      <td>0</td>\n",
       "    </tr>\n",
       "    <tr>\n",
       "      <th>2</th>\n",
       "      <td>documentary make travel around globe contains ...</td>\n",
       "      <td>0</td>\n",
       "    </tr>\n",
       "    <tr>\n",
       "      <th>3</th>\n",
       "      <td>everyone know zero day event think movie eleph...</td>\n",
       "      <td>0</td>\n",
       "    </tr>\n",
       "    <tr>\n",
       "      <th>4</th>\n",
       "      <td>begin spoiler fitfully funny memorable mr chon...</td>\n",
       "      <td>1</td>\n",
       "    </tr>\n",
       "  </tbody>\n",
       "</table>\n",
       "</div>"
      ],
      "text/plain": [
       "                                             comment  review\n",
       "0  grew watching inspector gadget wa still is one...       1\n",
       "1  anarchy lawlessness reign supreme podunk hick ...       0\n",
       "2  documentary make travel around globe contains ...       0\n",
       "3  everyone know zero day event think movie eleph...       0\n",
       "4  begin spoiler fitfully funny memorable mr chon...       1"
      ]
     },
     "execution_count": 42,
     "metadata": {},
     "output_type": "execute_result"
    }
   ],
   "source": [
    "total_data = train.append(test, ignore_index=True)\n",
    "total_data.head()"
   ]
  },
  {
   "cell_type": "code",
   "execution_count": 52,
   "metadata": {},
   "outputs": [
    {
     "data": {
      "image/png": "[encoded data removed]",
      "text/plain": [
       "<Figure size 432x288 with 1 Axes>"
      ]
     },
     "metadata": {
      "needs_background": "light"
     },
     "output_type": "display_data"
    }
   ],
   "source": [
    "pos = total_data[total_data['review'] == 0].shape[0]\n",
    "neg = total_data[total_data['review'] == 1].shape[0]\n",
    "\n",
    "plt.bar(range(2), [pos, neg], alpha=0.5)\n",
    "plt.xlabel('Classes')\n",
    "plt.ylabel('Sample Sizes')\n",
    "plt.xticks(range(2), ['Positive', 'Negative'])\n",
    "plt.show()"
   ]
  },
  {
   "cell_type": "code",
   "execution_count": 54,
   "metadata": {},
   "outputs": [],
   "source": [
    "# the test and train sample sizes are equal so we are going to mix these\n",
    "# data samples and split them into train and test samples\n",
    "train, test = train.shape[0], test.shape[0]"
   ]
  },
  {
   "cell_type": "code",
   "execution_count": 258,
   "metadata": {},
   "outputs": [],
   "source": [
    "from sklearn.model_selection import train_test_split\n",
    "\n",
    "x_train, x_valid, y_t, y_v = train_test_split(total_data['comment'], \n",
    "                                              total_data['review'],\n",
    "                                              test_size=0.2,\n",
    "                                              random_state=42)"
   ]
  },
  {
   "cell_type": "code",
   "execution_count": 259,
   "metadata": {},
   "outputs": [],
   "source": [
    "from sklearn.feature_extraction.text import TfidfVectorizer\n",
    "\n",
    "tfidf = TfidfVectorizer(max_features=500, lowercase=True, analyzer='word', stop_words='english', ngram_range=(1, 1))\n",
    "tfidf.fit(total_data['comment'])\n",
    "\n",
    "x_t = tfidf.transform(x_train)\n",
    "x_v = tfidf.transform(x_valid)"
   ]
  },
  {
   "cell_type": "code",
   "execution_count": 260,
   "metadata": {},
   "outputs": [],
   "source": [
    "import torch\n",
    "import torch.nn as nn\n",
    "import torch.nn.functional as F\n",
    "import torch.optim as optim"
   ]
  },
  {
   "cell_type": "code",
   "execution_count": 261,
   "metadata": {},
   "outputs": [],
   "source": [
    "x_t = torch.from_numpy(x_t.todense())\n",
    "x_v = torch.from_numpy(x_v.todense())"
   ]
  },
  {
   "cell_type": "code",
   "execution_count": 262,
   "metadata": {},
   "outputs": [],
   "source": [
    "y_t_ = torch.Tensor([np.eye(2)[i] for i in np.array(y_t)])\n",
    "y_v_ = torch.Tensor([np.eye(2)[i] for i in np.array(y_v)])"
   ]
  },
  {
   "cell_type": "code",
   "execution_count": 263,
   "metadata": {},
   "outputs": [],
   "source": [
    "y_t = y_t_\n",
    "y_v = y_v_"
   ]
  },
  {
   "cell_type": "code",
   "execution_count": 264,
   "metadata": {},
   "outputs": [],
   "source": [
    "class Net(nn.Module):\n",
    "    def __init__(self):\n",
    "        super().__init__()\n",
    "        \n",
    "        self.classifier = nn.Sequential(\n",
    "            nn.Linear(500, 512),\n",
    "            nn.ReLU(),\n",
    "            nn.Linear(512, 512),\n",
    "            nn.ReLU(),\n",
    "            nn.Linear(512, 2)\n",
    "        )\n",
    "    \n",
    "    def forward(self, x):\n",
    "        x = F.log_softmax(self.classifier(x), dim=1)\n",
    "        return x"
   ]
  },
  {
   "cell_type": "code",
   "execution_count": 265,
   "metadata": {},
   "outputs": [
    {
     "data": {
      "text/plain": [
       "Net(\n",
       "  (classifier): Sequential(\n",
       "    (0): Linear(in_features=500, out_features=512, bias=True)\n",
       "    (1): ReLU()\n",
       "    (2): Linear(in_features=512, out_features=512, bias=True)\n",
       "    (3): ReLU()\n",
       "    (4): Linear(in_features=512, out_features=2, bias=True)\n",
       "  )\n",
       ")"
      ]
     },
     "execution_count": 265,
     "metadata": {},
     "output_type": "execute_result"
    }
   ],
   "source": [
    "net = Net()\n",
    "net"
   ]
  },
  {
   "cell_type": "code",
   "execution_count": 266,
   "metadata": {},
   "outputs": [],
   "source": [
    "optimizer = optim.Adam(net.parameters(), lr=0.001)\n",
    "loss_function = nn.MSELoss()"
   ]
  },
  {
   "cell_type": "code",
   "execution_count": 267,
   "metadata": {},
   "outputs": [
    {
     "name": "stderr",
     "output_type": "stream",
     "text": [
      "  4%|█▊                                                | 11/313 [00:00<00:02, 109.24it/s]"
     ]
    },
    {
     "name": "stdout",
     "output_type": "stream",
     "text": [
      "Epoch 1\n"
     ]
    },
    {
     "name": "stderr",
     "output_type": "stream",
     "text": [
      "100%|█████████████████████████████████████████████████| 313/313 [00:02<00:00, 127.78it/s]\n",
      "  9%|████▍                                             | 28/313 [00:00<00:02, 131.93it/s]"
     ]
    },
    {
     "name": "stdout",
     "output_type": "stream",
     "text": [
      "Epoch Loss 1.610074758529663 \n",
      "\n",
      "Epoch 2\n"
     ]
    },
    {
     "name": "stderr",
     "output_type": "stream",
     "text": [
      "100%|██████████████████████████████████████████████████| 313/313 [00:03<00:00, 89.64it/s]\n",
      "  2%|█▏                                                  | 7/313 [00:00<00:04, 67.49it/s]"
     ]
    },
    {
     "name": "stdout",
     "output_type": "stream",
     "text": [
      "Epoch Loss 1.5969319343566895 \n",
      "\n",
      "Epoch 3\n"
     ]
    },
    {
     "name": "stderr",
     "output_type": "stream",
     "text": [
      "100%|█████████████████████████████████████████████████| 313/313 [00:02<00:00, 118.34it/s]\n",
      "  4%|██                                                | 13/313 [00:00<00:02, 122.97it/s]"
     ]
    },
    {
     "name": "stdout",
     "output_type": "stream",
     "text": [
      "Epoch Loss 1.5703330039978027 \n",
      "\n",
      "Epoch 4\n"
     ]
    },
    {
     "name": "stderr",
     "output_type": "stream",
     "text": [
      "100%|██████████████████████████████████████████████████| 313/313 [00:04<00:00, 73.16it/s]\n",
      "  4%|██                                                | 13/313 [00:00<00:02, 121.82it/s]"
     ]
    },
    {
     "name": "stdout",
     "output_type": "stream",
     "text": [
      "Epoch Loss 1.5663179159164429 \n",
      "\n",
      "Epoch 5\n"
     ]
    },
    {
     "name": "stderr",
     "output_type": "stream",
     "text": [
      "100%|█████████████████████████████████████████████████| 313/313 [00:02<00:00, 112.51it/s]"
     ]
    },
    {
     "name": "stdout",
     "output_type": "stream",
     "text": [
      "Epoch Loss 1.5629926919937134 \n",
      "\n"
     ]
    },
    {
     "name": "stderr",
     "output_type": "stream",
     "text": [
      "\n"
     ]
    }
   ],
   "source": [
    "EPOCHS = 5\n",
    "BATCH_SIZE = 128\n",
    "\n",
    "from tqdm import tqdm\n",
    "\n",
    "epochs_loss = []\n",
    "\n",
    "for epoch in range(EPOCHS):\n",
    "    print('Epoch', epoch + 1)\n",
    "    for i in tqdm(range(0, x_t.shape[0], BATCH_SIZE)):\n",
    "        batch_data_x = x_t[i:i+BATCH_SIZE].view(-1, 500).float()\n",
    "        batch_data_y = y_t[i:i+BATCH_SIZE].float()\n",
    "        \n",
    "        net.zero_grad()\n",
    "        \n",
    "        output = net(batch_data_x)\n",
    "        loss = loss_function(output, batch_data_y)\n",
    "        epochs_loss.append(loss.item())\n",
    "        loss.backward()\n",
    "        optimizer.step()\n",
    "    print('Epoch Loss', loss.item(), '\\n')"
   ]
  },
  {
   "cell_type": "code",
   "execution_count": 268,
   "metadata": {},
   "outputs": [
    {
     "data": {
      "image/png": "[encoded data removed]",
      "text/plain": [
       "<Figure size 432x288 with 1 Axes>"
      ]
     },
     "metadata": {
      "needs_background": "light"
     },
     "output_type": "display_data"
    }
   ],
   "source": [
    "plt.plot(epochs_loss, 'r--', label='Epoch Loss', alpha=0.8)\n",
    "plt.xlabel('Epochs ->')\n",
    "plt.ylabel('Loss')\n",
    "plt.show()"
   ]
  },
  {
   "cell_type": "code",
   "execution_count": 269,
   "metadata": {},
   "outputs": [
    {
     "name": "stdout",
     "output_type": "stream",
     "text": [
      "Validation Accuracy 81.75 %\n"
     ]
    }
   ],
   "source": [
    "with torch.no_grad():\n",
    "    output = net(x_v.view(-1, 500).float())\n",
    "    correct = 0\n",
    "    total = 0\n",
    "    for i in range(output.shape[0]):\n",
    "        if torch.argmax(output[i]) == torch.argmax(y_v[i]):\n",
    "            correct += 1\n",
    "        total += 1\n",
    "    \n",
    "    print('Validation Accuracy', round(correct/total * 100.0, 4), '%')"
   ]
  },
  {
   "cell_type": "code",
   "execution_count": 190,
   "metadata": {},
   "outputs": [],
   "source": [
    "# the validation accuracy obtained isn't quite great\n",
    "# let's check with other traditional models"
   ]
  },
  {
   "cell_type": "code",
   "execution_count": 218,
   "metadata": {},
   "outputs": [],
   "source": [
    "def model_training(clf, x_t, y_t, x_v=None , y_v=None ,task='binary:logistic'):\n",
    "    clf.fit(x_t,y_t)\n",
    "    print('training accuracy', clf.score(x_t,y_t))\n",
    "    \n",
    "    if task=='binary:logistic':\n",
    "      print('validation accuracy', clf.score(x_v,y_v))\n",
    "      print('validation f1_score',f1_score(clf.predict(x_v),y_v))\n",
    "      print('validation roc_auc score',roc_auc_score(y_v,clf.predict_proba(x_v)[::,-1]))\n",
    "      print('confusion matrix \\n',confusion_matrix(y_v, clf.predict(x_v)))\n",
    "    \n",
    "    if task=='reg:linear':\n",
    "        if x_v!=None:\n",
    "            print('validation r2_score', clf.score(x_v,y_v))\n",
    "            print('validation MSE',mean_squared_error(clf.predict(x_v),y_v))\n",
    "\n",
    "            \n",
    "    return clf"
   ]
  },
  {
   "cell_type": "code",
   "execution_count": 220,
   "metadata": {},
   "outputs": [],
   "source": [
    "from sklearn.linear_model import LogisticRegression\n",
    "from xgboost import XGBClassifier\n",
    "from sklearn.metrics import f1_score, classification_report, roc_auc_score, confusion_matrix, accuracy_score\n",
    "\n",
    "xgb = XGBClassifier(n_estimators=500, max_depth=5,learning_rate=0.1,scale_pos_weight=1.4266790777602751)\n",
    "lgr = LogisticRegression(n_jobs=1)"
   ]
  },
  {
   "cell_type": "code",
   "execution_count": 224,
   "metadata": {},
   "outputs": [],
   "source": [
    "x_t_ = x_t.data.numpy()\n",
    "x_v_ = x_v.data.numpy()\n",
    "\n",
    "y_t_ = [list(dat).index(1) for dat in y_t.data.numpy()]\n",
    "y_v_ = [list(dat).index(1) for dat in y_v.data.numpy()]"
   ]
  },
  {
   "cell_type": "code",
   "execution_count": 227,
   "metadata": {},
   "outputs": [
    {
     "name": "stdout",
     "output_type": "stream",
     "text": [
      "training accuracy 0.91855\n",
      "validation accuracy 0.8203\n",
      "validation f1_score 0.8255847811317092\n",
      "validation roc_auc score 0.9094717578870316\n",
      "confusion matrix \n",
      " [[3950 1060]\n",
      " [ 737 4253]]\n",
      "training accuracy 0.84015\n",
      "validation accuracy 0.8314\n",
      "validation f1_score 0.8292485314968604\n",
      "validation roc_auc score 0.9138150952603811\n",
      "confusion matrix \n",
      " [[4220  790]\n",
      " [ 896 4094]]\n"
     ]
    }
   ],
   "source": [
    "xgb = model_training(xgb, x_t_, y_t_, x_v_, y_v_)\n",
    "lgr = model_training(lgr, x_t_, y_t_, x_v_, y_v_)"
   ]
  },
  {
   "cell_type": "code",
   "execution_count": 228,
   "metadata": {},
   "outputs": [],
   "source": [
    "# Looks like XGBoost is overfitting the data, for this dataset looks like\n",
    "# Logistic Regression is doing a better job for us"
   ]
  },
  {
   "cell_type": "code",
   "execution_count": 229,
   "metadata": {},
   "outputs": [],
   "source": [
    "import pickle\n",
    "\n",
    "pickle.dump(lgr, open(\"model/lgr.pickle\", \"wb\"))\n",
    "pickle.dump(xgb, open(\"model/xgb.pickle\", \"wb\"))"
   ]
  },
  {
   "cell_type": "code",
   "execution_count": 271,
   "metadata": {},
   "outputs": [
    {
     "name": "stderr",
     "output_type": "stream",
     "text": [
      "C:\\ProgramData\\Anaconda3\\lib\\site-packages\\torch\\storage.py:34: FutureWarning: pickle support for Storage will be removed in 1.5. Use `torch.save` instead\n",
      "  warnings.warn(\"pickle support for Storage will be removed in 1.5. Use `torch.save` instead\", FutureWarning)\n"
     ]
    }
   ],
   "source": [
    "pickle.dump(net, open(\"model/net_trained.pickle\", \"wb\"))"
   ]
  },
  {
   "cell_type": "code",
   "execution_count": 270,
   "metadata": {},
   "outputs": [
    {
     "name": "stderr",
     "output_type": "stream",
     "text": [
      "C:\\ProgramData\\Anaconda3\\lib\\site-packages\\torch\\serialization.py:402: UserWarning: Couldn't retrieve source code for container of type Net. It won't be checked for correctness upon loading.\n",
      "  \"type \" + obj.__name__ + \". It won't be checked \"\n"
     ]
    }
   ],
   "source": [
    "torch.save(net, open(\"model/net.pt\", \"wb\"))"
   ]
  },
  {
   "cell_type": "code",
   "execution_count": null,
   "metadata": {},
   "outputs": [],
   "source": [
    "# To load the pytorch model\n",
    "# model = torch.load(PATH)\n",
    "# model.eval()"
   ]
  }
 ],
 "metadata": {
  "kernelspec": {
   "display_name": "Python 3",
   "language": "python",
   "name": "python3"
  },
  "language_info": {
   "codemirror_mode": {
    "name": "ipython",
    "version": 3
   },
   "file_extension": ".py",
   "mimetype": "text/x-python",
   "name": "python",
   "nbconvert_exporter": "python",
   "pygments_lexer": "ipython3",
   "version": "3.7.6"
  }
 },
 "nbformat": 4,
 "nbformat_minor": 4
}
